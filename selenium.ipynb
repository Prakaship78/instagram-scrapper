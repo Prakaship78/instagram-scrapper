{
 "cells": [
  {
   "cell_type": "code",
   "execution_count": 48,
   "metadata": {},
   "outputs": [],
   "source": [
    "from selenium import webdriver\n",
    "from bs4 import BeautifulSoup\n",
    "driver = webdriver.Chrome('C:\\chromedriver')"
   ]
  },
  {
   "cell_type": "code",
   "execution_count": 49,
   "metadata": {},
   "outputs": [],
   "source": [
    "#use to control web page\n",
    "driver.get('http://www.google.com')"
   ]
  },
  {
   "cell_type": "code",
   "execution_count": 50,
   "metadata": {},
   "outputs": [],
   "source": [
    "# x-path function\n",
    "search = driver.find_element_by_xpath(\"//input[@name='q']\")\n",
    "search.send_keys('facebook')\n",
    "search.submit()"
   ]
  },
  {
   "cell_type": "code",
   "execution_count": 33,
   "metadata": {},
   "outputs": [],
   "source": [
    "#driver.page source is for page source of a web page "
   ]
  },
  {
   "cell_type": "code",
   "execution_count": 34,
   "metadata": {},
   "outputs": [],
   "source": [
    "# driver.close() is used to close the chrome "
   ]
  },
  {
   "cell_type": "code",
   "execution_count": 40,
   "metadata": {},
   "outputs": [],
   "source": [
    "# search tag using name \n",
    "search_bar = driver.find_element_by_name('q')\n",
    "#sending input \n",
    "search_bar.send_keys(' python3')\n",
    "\n",
    "# submit \n",
    "search_bar.submit()\n"
   ]
  },
  {
   "cell_type": "code",
   "execution_count": 43,
   "metadata": {},
   "outputs": [],
   "source": [
    "#clicking function to interact \n",
    "driver.get('https://www.instagram.com/')\n",
    "log_in = driver.find_element_by_link_text('Log in')\n",
    "#click\n",
    "log_in.click()"
   ]
  },
  {
   "cell_type": "code",
   "execution_count": 44,
   "metadata": {},
   "outputs": [],
   "source": [
    "# three basics \n",
    "# axis = axis at which u looking for or the narrow line of sight\n",
    "# nodetest = wht u r looking for \n",
    "# predicates = what r attributes of thing that u r looking for "
   ]
  },
  {
   "cell_type": "code",
   "execution_count": 47,
   "metadata": {},
   "outputs": [],
   "source": [
    "#x-path expressions\n",
    "driver.get('https://www.instagram.com/')\n",
    "login = driver.find_element_by_xpath(\"//span[@id='react-root']//p[@class='izU2O']/a\")\n",
    "\n",
    "login.click()"
   ]
  },
  {
   "cell_type": "code",
   "execution_count": null,
   "metadata": {},
   "outputs": [],
   "source": []
  }
 ],
 "metadata": {
  "kernelspec": {
   "display_name": "Python 3",
   "language": "python",
   "name": "python3"
  },
  "language_info": {
   "codemirror_mode": {
    "name": "ipython",
    "version": 3
   },
   "file_extension": ".py",
   "mimetype": "text/x-python",
   "name": "python",
   "nbconvert_exporter": "python",
   "pygments_lexer": "ipython3",
   "version": "3.7.1"
  }
 },
 "nbformat": 4,
 "nbformat_minor": 2
}
